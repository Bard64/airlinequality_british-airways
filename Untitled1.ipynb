{
 "cells": [
  {
   "cell_type": "code",
   "execution_count": 2,
   "id": "72341bee-c3aa-4206-b066-e8a08b4c04b2",
   "metadata": {},
   "outputs": [],
   "source": [
    "import pandas as pd"
   ]
  },
  {
   "cell_type": "code",
   "execution_count": 6,
   "id": "f2e4d864-95c8-4d41-a4af-1b43b9927c71",
   "metadata": {},
   "outputs": [],
   "source": [
    "df=pd.read_csv('data_flayght2.csv')"
   ]
  },
  {
   "cell_type": "code",
   "execution_count": 7,
   "id": "23d27815-86b2-4fff-bc6b-520e75ff5ba4",
   "metadata": {},
   "outputs": [
    {
     "data": {
      "text/plain": [
       "Index(['Unnamed: 0', 'text', 'stars', 'text2', 'Type Of Traveller', 'route',\n",
       "       'seat_comfort', 'staff_service', 'recommended', 'Ground',\n",
       "       'sample_value_for_money', 'data_flown', 'Seat_Type', '44'],\n",
       "      dtype='object')"
      ]
     },
     "execution_count": 7,
     "metadata": {},
     "output_type": "execute_result"
    }
   ],
   "source": [
    "df.columns"
   ]
  },
  {
   "cell_type": "code",
   "execution_count": 11,
   "id": "52a18f72-347a-4ea2-aacc-eec6086ad5fa",
   "metadata": {},
   "outputs": [],
   "source": [
    "data_dict['text']=df['text']"
   ]
  },
  {
   "cell_type": "code",
   "execution_count": 14,
   "id": "478ecc6c-7143-4f82-8e62-0191cf55b684",
   "metadata": {
    "scrolled": true
   },
   "outputs": [],
   "source": [
    "import re\n",
    "\n",
    "# داده‌های نمونه شما\n",
    "data_dict = {}\n",
    "data_dict['text'] = df['text'].values\n",
    "data_dict['text2'] = []\n",
    "\n",
    "# الگوهای regex شما\n",
    "sample_text1 = r\"</strong>\\s*\\|\\s*(.*?)</div>\"\n",
    "sample_text2 = r'<div class=\"text_content\" itemprop=\"reviewBody\">\\s*<strong><a href=\"https://www.airlinequality.com/verified-reviews/\"><em>Not Verified</em></a></strong>\\s*\\|\\s*(.*?)</div>'\n",
    "sample_text3 = r'<div class=\"text_content\" itemprop=\"reviewBody\">(.*?)</div>'\n",
    "smaple_dict = {1: sample_text1, 2: sample_text2, 3: sample_text3}\n",
    "\n",
    "c = 0\n",
    "for i in data_dict['text']:\n",
    "    \n",
    "    for S in range(1, 4):\n",
    "        c += 1\n",
    "        text = re.findall(smaple_dict[S], str(i))\n",
    "        if text:\n",
    "            data_dict['text2'].append(text)\n",
    "           \n",
    "            break\n",
    "        elif S==3:\n",
    "            data_dict['text2'].append('0')\n",
    "        else:\n",
    "            pass\n",
    "        \n",
    "            \n",
    "            \n",
    "\n"
   ]
  },
  {
   "cell_type": "code",
   "execution_count": 13,
   "id": "8f8cac03-4ce8-475a-b0e2-8742da4a9a9b",
   "metadata": {},
   "outputs": [
    {
     "data": {
      "text/plain": [
       "3910"
      ]
     },
     "execution_count": 13,
     "metadata": {},
     "output_type": "execute_result"
    }
   ],
   "source": [
    "# dataf=pd.DataFrame.from_dict(data_dict)\n",
    "len(data_dict['text2'])"
   ]
  },
  {
   "cell_type": "code",
   "execution_count": 15,
   "id": "e3ab3ce1-d9c3-458f-b47b-9324488edc2e",
   "metadata": {},
   "outputs": [],
   "source": [
    "import pandas as pd\n",
    "df2=pd.DataFrame.from_dict(data_dict)\n",
    "df['text2']=df2['text2']"
   ]
  },
  {
   "cell_type": "code",
   "execution_count": 17,
   "id": "87359caf-f2c1-4579-a5dd-7a93be412dc1",
   "metadata": {},
   "outputs": [
    {
     "data": {
      "text/plain": [
       "['Terrible overall, medium service and the flight was delayed. There was no help at all to reschedule a connecting flight. The customer support was terrible and the request for compensation is still pending after one year.']"
      ]
     },
     "execution_count": 17,
     "metadata": {},
     "output_type": "execute_result"
    }
   ],
   "source": [
    "data_dict['text2'][0]"
   ]
  },
  {
   "cell_type": "code",
   "execution_count": 18,
   "id": "834a464e-94b7-42e5-91e3-dd16e75ceddf",
   "metadata": {
    "scrolled": true
   },
   "outputs": [],
   "source": [
    "data_dict['recommended']=[]\n",
    "data_dict['stars']=df.stars\n",
    "\n",
    "for i in data_dict['stars']:\n",
    "    sample_recommended=r'''class=\"review-rating-header recommended\">Recommended</td><td class=\"review-value rating-(yes|no)\">yes|no</td></tr> </table>'''\n",
    "    j=re.findall(sample_recommended,str(i))\n",
    "    if j==['yes']:\n",
    "        data_dict['recommended'].append('yes')\n",
    "    elif j!=['yes']:\n",
    "        data_dict['recommended'].append('no')"
   ]
  },
  {
   "cell_type": "code",
   "execution_count": 19,
   "id": "8daa0a07-c0a9-4cd6-b0d9-31ef0d55f180",
   "metadata": {},
   "outputs": [],
   "source": [
    "df['recommended']=data_dict['recommended']"
   ]
  },
  {
   "cell_type": "code",
   "execution_count": 20,
   "id": "cc8fb427-ca24-4c2e-8187-697378660d6f",
   "metadata": {},
   "outputs": [],
   "source": [
    "data_dict['value_for_money']=[]\n",
    "sample_value_for_money=r'''<td class=\"review-rating-header value_for_money\">Value For Money</td>\\n<td class=\"review-rating-stars stars\"><span class=\"(star[ fill]*?)\">1</span><span class=\"(star[ fill]*?)\">2</span><span class=\"(star[ fill]*?)\">3</span><span class=\"(star[ fill]*?)\">4</span><span class=\"(star[ fill]*?)\">5</span>'''\n",
    "\n",
    "for i in data_dict['stars']:\n",
    "    j=re.findall(sample_value_for_money,str(i))\n",
    "    if j:\n",
    "        data_dict['value_for_money'].append(j)\n",
    "    else:\n",
    "        data_dict['value_for_money'].append('0')"
   ]
  },
  {
   "cell_type": "code",
   "execution_count": 21,
   "id": "9620cf34-1d9d-4d8e-945a-55d5cc9e4d6e",
   "metadata": {},
   "outputs": [],
   "source": [
    "df['value_for_money']=data_dict['value_for_money']"
   ]
  },
  {
   "cell_type": "code",
   "execution_count": 22,
   "id": "5c3f2104-d85f-4e32-bfbb-d44de3776d0a",
   "metadata": {},
   "outputs": [],
   "source": [
    "df.drop(['Unnamed: 0','text','stars','44','sample_value_for_money'],axis=1,inplace=True)"
   ]
  },
  {
   "cell_type": "code",
   "execution_count": 23,
   "id": "e901ba1a-51ec-47ec-ae2b-75f456325772",
   "metadata": {},
   "outputs": [],
   "source": [
    "def star_counter(row):\n",
    "    return row[0].count('star fill')"
   ]
  },
  {
   "cell_type": "code",
   "execution_count": 24,
   "id": "f1f02277-13f7-4ec1-8e90-9ce2fe6b4899",
   "metadata": {},
   "outputs": [],
   "source": [
    "df['value_for_money']=df['value_for_money'].apply(star_counter)"
   ]
  },
  {
   "cell_type": "code",
   "execution_count": 25,
   "id": "9a004554-503d-41e6-a2c8-4e350fefd3a8",
   "metadata": {},
   "outputs": [],
   "source": [
    "df.to_csv('data33.csv')"
   ]
  }
 ],
 "metadata": {
  "kernelspec": {
   "display_name": "Python 3 (ipykernel)",
   "language": "python",
   "name": "python3"
  },
  "language_info": {
   "codemirror_mode": {
    "name": "ipython",
    "version": 3
   },
   "file_extension": ".py",
   "mimetype": "text/x-python",
   "name": "python",
   "nbconvert_exporter": "python",
   "pygments_lexer": "ipython3",
   "version": "3.12.7"
  }
 },
 "nbformat": 4,
 "nbformat_minor": 5
}
