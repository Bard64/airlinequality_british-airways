{
 "cells": [
  {
   "cell_type": "code",
   "execution_count": 1,
   "id": "ac1cc0f1-75c1-4cd0-b209-df95e34ba479",
   "metadata": {},
   "outputs": [],
   "source": [
    "import requests as rq\n",
    "from bs4 import BeautifulSoup as bs\n",
    "import re\n",
    "import pandas as pd\n"
   ]
  },
  {
   "cell_type": "code",
   "execution_count": 2,
   "id": "927f5478-1866-48de-bb2e-765bcab63d6b",
   "metadata": {},
   "outputs": [],
   "source": [
    "data_dict ={'text':[],'stars': []}\n"
   ]
  },
  {
   "cell_type": "code",
   "execution_count": 3,
   "id": "5a9f50c1-1344-41bc-b6aa-e83614384e97",
   "metadata": {},
   "outputs": [],
   "source": [
    "links=pd.read_csv('links.csv')\n",
    "links=pd.DataFrame(links)\n"
   ]
  },
  {
   "cell_type": "code",
   "execution_count": null,
   "id": "9219ba86-c53b-4e45-8004-1b1a798f49be",
   "metadata": {},
   "outputs": [],
   "source": [
    "html_text =[]\n",
    "html_errors=[]\n",
    "proxi={'http':\"127.0.0.1:60067\",'https':'127.0.0.1:60067'}\n",
    "for i in range(1,392):\n",
    "    bad_links=[]\n",
    "    # https://www.airlinequality.com/airline-reviews/british-airways/page/1/\n",
    "    url=f' https://www.airlinequality.com/airline-reviews/british-airways/page/{i}/'\n",
    "    #http=http=127.0.0.1:60067;https=127.0.0.1:60067;socks=127.0.0.1:60066\n",
    "    \n",
    "    try:\n",
    "        html=rq.get(url,proxi)\n",
    "        html_text.append(html.text)\n",
    "        html_errors.append(html)\n",
    "    except:\n",
    "        bad_links.append(url)        \n",
    "        continue\n",
    "    print(f'url: {url}, html: {html}')    \n",
    "\n",
    "            "
   ]
  },
  {
   "cell_type": "code",
   "execution_count": null,
   "id": "14f80c9f-6fc5-4060-a28d-b97168e0a59d",
   "metadata": {},
   "outputs": [],
   "source": [
    "lines = html_text\n",
    "with open('new_file.txt', 'w',encoding='utf-8') as f:\n",
    "    for line in lines:\n",
    "        f.write(f\"{line}\\n\")"
   ]
  },
  {
   "cell_type": "code",
   "execution_count": null,
   "id": "b137a79d-f0fc-4661-918c-10cca3d914b4",
   "metadata": {},
   "outputs": [],
   "source": [
    "\n",
    "def text():\n",
    "    global data_dict\n",
    "    for i in html_text:  # replace `html_text` with your actual list of HTML strings\n",
    "        text = bs(i, 'lxml')\n",
    "        \n",
    "        # Iterate over the parsed HTML elements instead of the string length\n",
    "        for div in text.find_all('div', {'class': 'text_content', 'itemprop': 'reviewBody'}):\n",
    "            data_dict['text'].append(div)\n",
    "    \n",
    "    return data_dict"
   ]
  },
  {
   "cell_type": "code",
   "execution_count": null,
   "id": "81b79bcc-c2df-4fe2-8cb2-5e6569b45052",
   "metadata": {
    "scrolled": true
   },
   "outputs": [],
   "source": [
    "data_dict=text()\n",
    "len(data_dict['text'])"
   ]
  },
  {
   "cell_type": "code",
   "execution_count": null,
   "id": "06ddce27-f6d6-494b-9928-40c313c72983",
   "metadata": {},
   "outputs": [],
   "source": [
    "data_dict['text2']=[]\n",
    "sample_text=r'''.*</strong>\\s*.(.*)</div>'''\n",
    "data_dict['text2'] = [re.findall(sample_text,str(i)) for i in data_dict['text']]\n"
   ]
  },
  {
   "cell_type": "code",
   "execution_count": null,
   "id": "60837e5b-f151-4b1e-aacf-3f281cb1c661",
   "metadata": {},
   "outputs": [],
   "source": [
    "def stars ():\n",
    "    global data_dict\n",
    "    \n",
    "    for i in html_text:  \n",
    "        text = bs(i, 'lxml')\n",
    "        c=0\n",
    "        for tr in text.find_all('table', {'class':\"review-ratings\"}):\n",
    "           c+=1\n",
    "           if c != 1:\n",
    "               data_dict['stars'].append(tr)\n",
    "           else:\n",
    "                pass\n",
    "    return data_dict"
   ]
  },
  {
   "cell_type": "code",
   "execution_count": null,
   "id": "f72d8eca-cdee-41a4-b22e-f9e1e96faf87",
   "metadata": {
    "scrolled": true
   },
   "outputs": [],
   "source": [
    "data_dict=stars()"
   ]
  },
  {
   "cell_type": "code",
   "execution_count": null,
   "id": "ce99533a-b81b-495b-9c81-ef48ba3d5f61",
   "metadata": {
    "scrolled": true
   },
   "outputs": [],
   "source": [
    "data_dict['Type Of Traveller']=[]\n",
    "for i in data_dict['stars']:\n",
    "    sample_type_of_traveller=r\"\"\"<td class=\"review-rating-header type_of_traveller\">Type Of Traveller</td><td class=\"review-value\">(.*)</td></tr>\"\"\"\n",
    "    d=re.findall(sample_type_of_traveller,str(i))\n",
    "    if i:\n",
    "        data_dict['Type Of Traveller'].append(d)\n",
    "    else:\n",
    "        data_dict['Type Of Traveller'].append('0')\n"
   ]
  },
  {
   "cell_type": "code",
   "execution_count": null,
   "id": "fc07f621-05b8-459e-887c-51ba87c10ed1",
   "metadata": {},
   "outputs": [],
   "source": [
    "sample_Seat_Type=r\"\"\"<td class=\"review-rating-header cabin_flown\">Seat Type</td><td class=\"review-value\">(.*)</td>\"\"\"\n",
    "data_dict['sample_Seat_Type']=re.findall(sample_Seat_Type,str(data_dict['stars']))"
   ]
  },
  {
   "cell_type": "code",
   "execution_count": null,
   "id": "d0c92c69-6091-47ff-baf9-b2118b1808a9",
   "metadata": {
    "scrolled": true
   },
   "outputs": [],
   "source": [
    "data_dict['route']=[]\n",
    "for i in data_dict['stars']:\n",
    "    sample_route=r\"\"\"<td class=\"review-rating-header route\">Route</td><td class=\"review-value\">(.{1,27} to .{1,27})</td></tr>\"\"\"\n",
    "    data_dict['route'].append(re.findall(sample_route,str(i)))"
   ]
  },
  {
   "cell_type": "code",
   "execution_count": null,
   "id": "a85dc2da-5e28-47d5-976c-c5a3ff669807",
   "metadata": {
    "scrolled": true
   },
   "outputs": [],
   "source": [
    "data_dict['seat_comfort']=[]\n",
    "for i in data_dict['stars']:\n",
    "    sample_seat_comfort=r'''<td class=\"review-rating-header seat_comfort\">Seat Comfort</td>\\n<td class=\"review-rating-stars stars\"><span class=\"(star[ fill]*)\">1</span><span class=\"(star[ fill]*)\">2</span><span class=\"(star[ fill]*)\">3</span><span class=\"(star[ fill]*)\">4</span><span class=\"(star[ fill]*)\">5</span>'''\n",
    "    j=re.findall(sample_seat_comfort,str(i))\n",
    "    if j:\n",
    "        data_dict['seat_comfort'].append(j)\n",
    "    else:\n",
    "        data_dict['seat_comfort'].append('0')"
   ]
  },
  {
   "cell_type": "code",
   "execution_count": null,
   "id": "28e9b52d-4842-4d7d-ba39-2c37a4f8ad6a",
   "metadata": {},
   "outputs": [],
   "source": [
    "data_dict['staff_service']=[]\n",
    "for i in data_dict['stars']:\n",
    "    sample_cabin_staff_service=r'''<td class=\"review-rating-header cabin_staff_service\">Cabin Staff Service</td>\\n<td class=\"review-rating-stars stars\"><span class=\"(star[ fill]*)\">1</span><span class=\"(star[ fill]*)\">2</span><span class=\"(star[ fill]*)\">3</span><span class=\"(star[ fill]*)\">4</span><span class=\"(star[ fill]*)\">5</span>'''\n",
    "    j=re.findall(sample_cabin_staff_service,str(i))\n",
    "    if j:\n",
    "        data_dict['staff_service'].append(j)\n",
    "    else:\n",
    "        data_dict['staff_service'].append('0')"
   ]
  },
  {
   "cell_type": "code",
   "execution_count": null,
   "id": "d8536730-d2df-4530-aa68-f06c1789f5f9",
   "metadata": {
    "scrolled": true
   },
   "outputs": [],
   "source": [
    "data_dict['recommended']=[]\n",
    "for i in data_dict['stars']:\n",
    "    sample_recommended=r'''class=\"review-rating-header recommended\">Recommended</td><td class=\"review-value rating-(yes|no)\">yes|no</td></tr> </table>'''\n",
    "    j=re.findall(sample_type_of_traveller,str(i))\n",
    "    if j:\n",
    "        data_dict['recommended'].append(j)\n",
    "    else:\n",
    "        data_dict['recommended'].append('0')"
   ]
  },
  {
   "cell_type": "code",
   "execution_count": null,
   "id": "125f6d42-9023-46cb-95b9-7f4edfdb4849",
   "metadata": {
    "scrolled": true
   },
   "outputs": [],
   "source": [
    "data_dict['Ground']=[]\n",
    "for i in data_dict['stars']:\n",
    "\n",
    "    sample_Ground_Service=r'''<td class=\"review-rating-header ground_service\">Ground Service</td>\\n<td class=\"review-rating-stars stars\"><span class=\"(star[ fill]*)\">1</span><span class=\"(star[ fill]*)\">2</span><span class=\"(star[ fill]*)\">3</span><span class=\"(star[ fill]*)\">4</span><span class=\"(star[ fill]*)\">5</span>'''\n",
    "    j=re.findall(sample_Ground_Service,str(i))\n",
    "    if j :\n",
    "        data_dict['Ground'].append(j)\n",
    "    else:\n",
    "        data_dict['Ground'].append('0')\n"
   ]
  },
  {
   "cell_type": "code",
   "execution_count": null,
   "id": "558d1402-baa4-4f8b-b386-e979626dd622",
   "metadata": {},
   "outputs": [],
   "source": [
    "sample_value_for_money=r'''<td class=\"review-rating-header value_for_money\">Value For Money</td>\\n<td class=\"review-rating-stars stars\"><span class=\"(star[ fill]*)\">1</span><span class=\"(star[ fill]*)\">2</span><span class=\"(star[ fill]*)\">3</span><span class=\"(star[ fill]*)\">4</span><span class=\"(star[ fill]*)\">5</span>'''\n",
    "data_dict['sample_value_for_money']=re.findall(sample_value_for_money,str(data_dict['stars']))"
   ]
  },
  {
   "cell_type": "code",
   "execution_count": null,
   "id": "3f5ebdf2-36aa-485d-89a0-bc85298b2577",
   "metadata": {},
   "outputs": [],
   "source": [
    "data_dict['data_flown']=[]\n",
    "for i in data_dict['stars']:\n",
    "    \n",
    "    sample_data_flown=r'''<td class=\"review-rating-header date_flown\">Date Flown</td><td class=\"review-value\">(.{1,10}\\s\\d{4})</td>'''\n",
    "    j=re.findall(sample_data_flown,str(i))\n",
    "    if j:\n",
    "        data_dict['data_flown'].append(j)\n",
    "    else :\n",
    "        data_dict['data_flown'].append('0')"
   ]
  },
  {
   "cell_type": "code",
   "execution_count": null,
   "id": "71c096e7-7ee3-42f0-b9f6-a141eb0e1b47",
   "metadata": {},
   "outputs": [],
   "source": [
    "data_dict['Seat_Type']=[]\n",
    "for i in data_dict['stars']:\n",
    "    sample_Seat_Type=r\"\"\"<td class=\"review-rating-header cabin_flown\">Seat Type</td><td class=\"review-value\">(.*)</td>\"\"\"\n",
    "    data_dict['Seat_Type'].append(re.findall(sample_Seat_Type,str(i)))"
   ]
  },
  {
   "cell_type": "code",
   "execution_count": null,
   "id": "13d67164-1f95-417a-b406-60e1b9bc3e14",
   "metadata": {},
   "outputs": [],
   "source": [
    "\n",
    "data_dict.keys()"
   ]
  },
  {
   "cell_type": "code",
   "execution_count": null,
   "id": "97a98590-efde-47aa-9d16-03e38a55266a",
   "metadata": {},
   "outputs": [],
   "source": [
    "for i in data_dict.keys():\n",
    "    j=len(data_dict[i])\n",
    "    print(f'{i} len is{j}')"
   ]
  },
  {
   "cell_type": "code",
   "execution_count": null,
   "id": "1b88fc78-f25a-49b4-834c-bfe0b6ee3c25",
   "metadata": {},
   "outputs": [],
   "source": [
    "import pandas as pd\n",
    "# data_dict.pop('sample_Seat_Type')\n",
    "df=pd.DataFrame.from_dict(data_dict)\n"
   ]
  },
  {
   "cell_type": "code",
   "execution_count": null,
   "id": "66a0d731-0588-4dcb-bf6d-b389d251e421",
   "metadata": {},
   "outputs": [],
   "source": [
    "df.to_csv('data_flayght.csv')"
   ]
  },
  {
   "cell_type": "code",
   "execution_count": null,
   "id": "88661cb8-4fce-43f5-9801-a48c3d650fa0",
   "metadata": {
    "scrolled": true
   },
   "outputs": [],
   "source": [
    "df"
   ]
  },
  {
   "cell_type": "code",
   "execution_count": null,
   "id": "67b8ca0e-c1dc-47c0-826c-f5c3538ee0f4",
   "metadata": {},
   "outputs": [],
   "source": [
    "def star_counter(row):\n",
    "    return row[0].count('star fill')"
   ]
  },
  {
   "cell_type": "code",
   "execution_count": null,
   "id": "e48663ac-4dcd-4332-8745-aaa93bcfd46c",
   "metadata": {},
   "outputs": [],
   "source": [
    "df.columns"
   ]
  },
  {
   "cell_type": "code",
   "execution_count": null,
   "id": "d480106e-e921-4ace-b255-07ec5354a2ff",
   "metadata": {},
   "outputs": [],
   "source": [
    "df['seat_comfort']=df['seat_comfort'].apply(star_counter)"
   ]
  },
  {
   "cell_type": "code",
   "execution_count": null,
   "id": "e6fce094-7dad-4638-a84b-b3a61aaebb6b",
   "metadata": {},
   "outputs": [],
   "source": [
    "df['staff_service']=df['staff_service'].apply(star_counter)"
   ]
  },
  {
   "cell_type": "code",
   "execution_count": null,
   "id": "4a711c65-56d0-4a87-aa82-ffc6b6449ae9",
   "metadata": {},
   "outputs": [],
   "source": [
    "df['recommended']=df['recommended'].apply(star_counter)"
   ]
  },
  {
   "cell_type": "code",
   "execution_count": null,
   "id": "1c18ecbd-3aa7-4989-885a-31d6b41916af",
   "metadata": {},
   "outputs": [],
   "source": [
    "df['Ground']=df['Ground'].apply(star_counter)"
   ]
  },
  {
   "cell_type": "code",
   "execution_count": null,
   "id": "c9efa1e3-e527-4f72-a976-78a2ce6b822d",
   "metadata": {},
   "outputs": [],
   "source": [
    "\n",
    "df['sample_value_for_money']=df['sample_value_for_money'].apply(star_counter)"
   ]
  },
  {
   "cell_type": "code",
   "execution_count": null,
   "id": "1209b73a-19f2-4bb5-844c-e52c49ebafc7",
   "metadata": {},
   "outputs": [],
   "source": [
    "df.to_csv('data_flayght2.csv')"
   ]
  },
  {
   "cell_type": "code",
   "execution_count": null,
   "id": "fa4f8583-2ec8-4f6a-aec8-919eb5da81bd",
   "metadata": {},
   "outputs": [],
   "source": []
  }
 ],
 "metadata": {
  "kernelspec": {
   "display_name": "Python 3 (ipykernel)",
   "language": "python",
   "name": "python3"
  },
  "language_info": {
   "codemirror_mode": {
    "name": "ipython",
    "version": 3
   },
   "file_extension": ".py",
   "mimetype": "text/x-python",
   "name": "python",
   "nbconvert_exporter": "python",
   "pygments_lexer": "ipython3",
   "version": "3.12.7"
  }
 },
 "nbformat": 4,
 "nbformat_minor": 5
}
