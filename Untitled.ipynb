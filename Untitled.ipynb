{
 "cells": [
  {
   "cell_type": "code",
   "execution_count": 5,
   "id": "f0ab4526-c410-4d0a-b069-ab1caa92e3db",
   "metadata": {
    "scrolled": true
   },
   "outputs": [
    {
     "name": "stdout",
     "output_type": "stream",
     "text": [
      "<Response [200]>\n"
     ]
    }
   ],
   "source": [
    "import requests\n",
    "import pandas as pd\n",
    "html_text =[]\n",
    "html_errors=[]\n",
    "url=f'https://www.airlinequality.com/airline-reviews/aerolineas-argentinas/'\n",
    "#http=http=127.0.0.1:60067;https=127.0.0.1:60067;socks=127.0.0.1:60066\n",
    "proxi={'http':\"127.0.0.1:60067\",'https':'127.0.0.1:60067'}\n",
    "\n",
    "html=requests.get(url,proxi)\n",
    "print(html)"
   ]
  },
  {
   "cell_type": "code",
   "execution_count": 36,
   "id": "f04b8d2b-813a-4b98-b99b-859725ee3639",
   "metadata": {},
   "outputs": [],
   "source": [
    "from bs4 import BeautifulSoup as bs\n",
    "\n",
    "data_dict ={'text':[],'stars': []}\n",
    "html_text.append(html.text)\n",
    "html_errors.append(html)\n",
    "def text():\n",
    "    global data_dict\n",
    "    for i in html_text:  # replace `html_text` with your actual list of HTML strings\n",
    "        text = bs(i, 'lxml')\n",
    "        # <ul class=\"item\">\n",
    "        # Iterate over the parsed HTML elements instead of the string length\n",
    "        for div in text.find_all('article', {'class': 'comp comp_reviews-pagination querylist-pagination position-'}):\n",
    "            data_dict['text']=div\n",
    "    \n",
    "    return data_dict"
   ]
  },
  {
   "cell_type": "code",
   "execution_count": 37,
   "id": "6f8cc373-36d0-4921-afaa-5b6154440ce4",
   "metadata": {
    "scrolled": true
   },
   "outputs": [
    {
     "data": {
      "text/plain": [
       "{'text': <article class=\"comp comp_reviews-pagination querylist-pagination position-\">\n",
       " <ul>\n",
       " <li class=\"off\">\n",
       " <span>&lt;&lt;</span>\n",
       " </li>\n",
       " <li>\n",
       " <a class=\"active\" href=\"/airline-reviews/aerolineas-argentinas/page/1/?http=127.0.0.1%3A60067&amp;https=127.0.0.1%3A60067\">1</a>\n",
       " </li>\n",
       " <li>\n",
       " <a href=\"/airline-reviews/aerolineas-argentinas/page/2/?http=127.0.0.1%3A60067&amp;https=127.0.0.1%3A60067\">2</a>\n",
       " </li>\n",
       " <li>\n",
       " <a href=\"/airline-reviews/aerolineas-argentinas/page/3/?http=127.0.0.1%3A60067&amp;https=127.0.0.1%3A60067\">3</a>\n",
       " </li>\n",
       " <li class=\"off\">\n",
       " <span>...</span>\n",
       " </li>\n",
       " <li>\n",
       " <a href=\"/airline-reviews/aerolineas-argentinas/page/23/?http=127.0.0.1%3A60067&amp;https=127.0.0.1%3A60067\">23</a>\n",
       " </li>\n",
       " <li>\n",
       " <a href=\"/airline-reviews/aerolineas-argentinas/page/24/?http=127.0.0.1%3A60067&amp;https=127.0.0.1%3A60067\">24</a>\n",
       " </li>\n",
       " <li>\n",
       " <a href=\"/airline-reviews/aerolineas-argentinas/page/25/?http=127.0.0.1%3A60067&amp;https=127.0.0.1%3A60067\">25</a>\n",
       " </li>\n",
       " <li>\n",
       " <a href=\"/airline-reviews/aerolineas-argentinas/page/2/?http=127.0.0.1%3A60067&amp;https=127.0.0.1%3A60067\">&gt;&gt;</a>\n",
       " </li>\n",
       " </ul>\n",
       " <div class=\"pagination-total\">1 to 10 of 250 Reviews</div>\n",
       " </article>,\n",
       " 'stars': []}"
      ]
     },
     "execution_count": 37,
     "metadata": {},
     "output_type": "execute_result"
    }
   ],
   "source": [
    "a=text()\n",
    "a"
   ]
  },
  {
   "cell_type": "code",
   "execution_count": 58,
   "id": "6c12d945-f23c-4341-a296-d04328e00f2d",
   "metadata": {},
   "outputs": [
    {
     "data": {
      "text/plain": [
       "25"
      ]
     },
     "execution_count": 58,
     "metadata": {},
     "output_type": "execute_result"
    }
   ],
   "source": [
    "import re\n",
    "b=re.findall(\"\"\"<a href=\".*?\">(.*?)</a>\"\"\",str(a))\n",
    "d=pd.DataFrame(b)\n",
    "# b.to_csv('links.csv', index=False)\n",
    "# b[0].values[-2]\n",
    "int(b[-2])"
   ]
  }
 ],
 "metadata": {
  "kernelspec": {
   "display_name": "Python 3 (ipykernel)",
   "language": "python",
   "name": "python3"
  },
  "language_info": {
   "codemirror_mode": {
    "name": "ipython",
    "version": 3
   },
   "file_extension": ".py",
   "mimetype": "text/x-python",
   "name": "python",
   "nbconvert_exporter": "python",
   "pygments_lexer": "ipython3",
   "version": "3.12.7"
  }
 },
 "nbformat": 4,
 "nbformat_minor": 5
}
